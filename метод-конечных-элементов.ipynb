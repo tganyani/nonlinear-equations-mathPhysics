{
 "cells": [
  {
   "cell_type": "code",
   "execution_count": 15,
   "metadata": {},
   "outputs": [],
   "source": [
    "import numpy as np\n",
    "import matplotlib.pyplot as plt"
   ]
  },
  {
   "cell_type": "code",
   "execution_count": 7,
   "metadata": {},
   "outputs": [],
   "source": [
    "def gradDescent(n):\n",
    "    v = np.zeros((2,n+2))\n",
    "    h = 1/(n+1)\n",
    "    w = 1\n",
    "    for i in range(10000):\n",
    "        if i == 0:\n",
    "            for j in range(n+2):\n",
    "                if j == 0 or j == n-1:\n",
    "                    v[0][j] = 0\n",
    "                else:\n",
    "                    v[0][j] = 1/4*((1/(np.exp(2)+1))*np.exp(2*j*h) + (1/(np.exp(-2)+1))*np.exp(-2*j*h)-1 )\n",
    "        for k in range(2,n+2):\n",
    "            v[1][k-1] = v[0][k-1] - w*(2*v[0][k-1]-v[0][k-2] -v[0][k] + 4*(h**2)*((2/3)*v[0][k-1] + (1/6)*v[0][k-2] + (1/6)*v[0][k]) - 2*k*(h**3)*(np.cos(v[0][k])))\n",
    "        \n",
    "        sum1 = 0\n",
    "        sum2 = 0\n",
    "        for z in range(2,n+2):\n",
    "            sum1 += ( (1/h)*((v[0][z-1])**2 -v[0][k-2]*v[0][k-1] - v[0][k-1]*v[0][k]) + 4*h*((1/3)*(v[0][k-1])**2 + (1/6)*(v[0][k-1]*v[0][k-2]) + (1/6)*(v[0][k-1]*v[0][k]) - 2*(h**2))*z*np.sin(v[0][k-1]) + h*v[0][k-1])\n",
    "            sum2 += ( (1/h)*((v[1][z-1])**2 -v[1][k-2]*v[1][k-1] - v[1][k-1]*v[1][k]) + 4*h*((1/3)*(v[1][k-1])**2 + (1/6)*(v[1][k-1]*v[1][k-2]) + (1/6)*(v[1][k-1]*v[1][k]) - 2*(h**2))*z*np.sin(v[1][k-1]) + h*v[1][k-1])\n",
    "        if sum2 >= sum1 :\n",
    "            w /= 10000\n",
    "        if sum2 < sum1 :\n",
    "            v[0,:] = v[1, :]  \n",
    "    return v[1,1:n+1]"
   ]
  },
  {
   "cell_type": "code",
   "execution_count": 71,
   "metadata": {},
   "outputs": [
    {
     "data": {
      "text/plain": [
       "-0.9899924966004454"
      ]
     },
     "execution_count": 71,
     "metadata": {},
     "output_type": "execute_result"
    }
   ],
   "source": [
    "np.cos(3)"
   ]
  },
  {
   "cell_type": "code",
   "execution_count": 23,
   "metadata": {},
   "outputs": [],
   "source": [
    "x = gradDescent(9)\n",
    "x2 = gradDescent(99)"
   ]
  },
  {
   "cell_type": "code",
   "execution_count": 24,
   "metadata": {},
   "outputs": [],
   "source": [
    "x_ = np.linspace(0,1,100)\n",
    "y_ = np.zeros(len(x_))\n",
    "y_2 = np.zeros(len(x_))\n",
    "for i in range(len(x_)):\n",
    "    for j in range(len(x)):\n",
    "        y_[i] += x[j]*np.exp(x_[i]-x_[j])\n",
    "for i in range(len(x_)):\n",
    "    for j in range(len(x2)):\n",
    "        y_2[i] += x2[j]*np.exp(x_[i]-x_[j])\n",
    "        "
   ]
  },
  {
   "cell_type": "code",
   "execution_count": 25,
   "metadata": {},
   "outputs": [
    {
     "data": {
      "text/plain": [
       "Text(0, 0.5, 'u(x)')"
      ]
     },
     "execution_count": 25,
     "metadata": {},
     "output_type": "execute_result"
    },
    {
     "data": {
      "image/png": "[encoded data removed]",
      "text/plain": [
       "<Figure size 432x288 with 1 Axes>"
      ]
     },
     "metadata": {
      "needs_background": "light"
     },
     "output_type": "display_data"
    }
   ],
   "source": [
    "plt.plot(x_,y_)\n",
    "plt.plot(x_,y_2)\n",
    "plt.legend(['N=9','N=99'])\n",
    "plt.xlabel('x')\n",
    "plt.ylabel('u(x)')"
   ]
  },
  {
   "cell_type": "code",
   "execution_count": null,
   "metadata": {},
   "outputs": [],
   "source": []
  }
 ],
 "metadata": {
  "kernelspec": {
   "display_name": "Python 3",
   "language": "python",
   "name": "python3"
  },
  "language_info": {
   "codemirror_mode": {
    "name": "ipython",
    "version": 3
   },
   "file_extension": ".py",
   "mimetype": "text/x-python",
   "name": "python",
   "nbconvert_exporter": "python",
   "pygments_lexer": "ipython3",
   "version": "3.7.3"
  }
 },
 "nbformat": 4,
 "nbformat_minor": 2
}
